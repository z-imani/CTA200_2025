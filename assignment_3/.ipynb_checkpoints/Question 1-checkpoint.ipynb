{
 "cells": [
  {
   "cell_type": "code",
   "execution_count": null,
   "id": "5bbf77da-1d37-4849-b20e-d4194129cc96",
   "metadata": {},
   "outputs": [],
   "source": [
    "\n",
    "import function \n",
    "import numpy as np\n",
    "import matplotlib.pyplot as plt\n"
   ]
  },
  {
   "cell_type": "code",
   "execution_count": null,
   "id": "60e63ee8-8791-48fc-bc3e-e2d7bd85356c",
   "metadata": {},
   "outputs": [],
   "source": [
    "x_min, x_max = -2, 2\n",
    "y_min, y_max = -2, 2\n",
    "resolution = 500\n",
    "\n",
    "x = np.linspace(x_min, x_max, resolution)\n",
    "y = np.linspace(y_min, y_max, resolution)\n",
    "X, Y = np.meshgrid(x, y)\n",
    "C = X + 1j * Y\n",
    "\n",
    "\n",
    "\n",
    "max_iter = 100\n",
    "escape_threshold = 10\n",
    "\n",
    "escape_times = np.zeros(C.shape, dtype=int)\n",
    "\n",
    "for i in range(C.shape[0]):\n",
    "    for j in range(C.shape[1]):\n",
    "        escape_times[i, j] = function.mandelbrot_escape_time(C[i, j], max_iter=max_iter, escape_threshold=escape_threshold)\n"
   ]
  },
  {
   "cell_type": "code",
   "execution_count": null,
   "id": "903a0805-d8e5-4154-ac26-33d746531ed1",
   "metadata": {},
   "outputs": [],
   "source": [
    "plt.figure(figsize=(5, 5))\n",
    "plt.imshow(escape_times < max_iter, extent=[x_min, x_max, y_min, y_max], cmap='binary')\n",
    "plt.xlabel('Real(c)')\n",
    "plt.ylabel('Imag(c)')\n",
    "plt.title('Bounded (white) vs Diverged (black)')\n",
    "plt.show()\n"
   ]
  },
  {
   "cell_type": "code",
   "execution_count": null,
   "id": "2255b827-6738-4e05-81dd-0ab5ceb7ed75",
   "metadata": {},
   "outputs": [],
   "source": [
    "plt.figure(figsize=(7, 7))\n",
    "plt.imshow(escape_times, extent=[x_min, x_max, y_min, y_max], cmap='plasma')\n",
    "plt.xlabel('Real(c)')\n",
    "plt.ylabel('Imag(c)')\n",
    "plt.title('Divergence Speed (Iterations to Escape)')\n",
    "plt.colorbar(label='Iterations')\n",
    "plt.show()\n"
   ]
  },
  {
   "cell_type": "code",
   "execution_count": null,
   "id": "db8fde71-b648-4fa6-955e-04e47179184a",
   "metadata": {},
   "outputs": [],
   "source": []
  }
 ],
 "metadata": {
  "kernelspec": {
   "display_name": "Python 3 (ipykernel)",
   "language": "python",
   "name": "python3"
  },
  "language_info": {
   "codemirror_mode": {
    "name": "ipython",
    "version": 3
   },
   "file_extension": ".py",
   "mimetype": "text/x-python",
   "name": "python",
   "nbconvert_exporter": "python",
   "pygments_lexer": "ipython3",
   "version": "3.11.7"
  }
 },
 "nbformat": 4,
 "nbformat_minor": 5
}
